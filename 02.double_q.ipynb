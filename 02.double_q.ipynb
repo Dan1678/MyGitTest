{
  "cells": [
    {
      "cell_type": "markdown",
      "metadata": {
        "id": "U3kUKqLElPs6"
      },
      "source": [
        "## Configurations for Colab"
      ]
    },
    {
      "cell_type": "code",
      "execution_count": 2,
      "metadata": {
        "colab": {
          "base_uri": "https://localhost:8080/"
        },
        "id": "7WLMTwQwlPs9",
        "outputId": "dd829772-4812-41f2-c2d4-37f62840692b"
      },
      "outputs": [
        {
          "output_type": "stream",
          "name": "stdout",
          "text": [
            "Reading package lists... Done\n",
            "Building dependency tree... Done\n",
            "Reading state information... Done\n",
            "\u001b[1;31mE: \u001b[0mUnable to locate package python-opengl\u001b[0m\n",
            "Reading package lists... Done\n",
            "Building dependency tree... Done\n",
            "Reading state information... Done\n",
            "ffmpeg is already the newest version (7:4.4.2-0ubuntu0.22.04.1).\n",
            "0 upgraded, 0 newly installed, 0 to remove and 49 not upgraded.\n",
            "Reading package lists... Done\n",
            "Building dependency tree... Done\n",
            "Reading state information... Done\n",
            "The following additional packages will be installed:\n",
            "  libfontenc1 libxfont2 libxkbfile1 x11-xkb-utils xfonts-base xfonts-encodings xfonts-utils\n",
            "  xserver-common\n",
            "The following NEW packages will be installed:\n",
            "  libfontenc1 libxfont2 libxkbfile1 x11-xkb-utils xfonts-base xfonts-encodings xfonts-utils\n",
            "  xserver-common xvfb\n",
            "0 upgraded, 9 newly installed, 0 to remove and 49 not upgraded.\n",
            "Need to get 7,815 kB of archives.\n",
            "After this operation, 11.9 MB of additional disk space will be used.\n",
            "Get:1 http://archive.ubuntu.com/ubuntu jammy/main amd64 libfontenc1 amd64 1:1.1.4-1build3 [14.7 kB]\n",
            "Get:2 http://archive.ubuntu.com/ubuntu jammy/main amd64 libxfont2 amd64 1:2.0.5-1build1 [94.5 kB]\n",
            "Get:3 http://archive.ubuntu.com/ubuntu jammy/main amd64 libxkbfile1 amd64 1:1.1.0-1build3 [71.8 kB]\n",
            "Get:4 http://archive.ubuntu.com/ubuntu jammy/main amd64 x11-xkb-utils amd64 7.7+5build4 [172 kB]\n",
            "Get:5 http://archive.ubuntu.com/ubuntu jammy/main amd64 xfonts-encodings all 1:1.0.5-0ubuntu2 [578 kB]\n",
            "Get:6 http://archive.ubuntu.com/ubuntu jammy/main amd64 xfonts-utils amd64 1:7.7+6build2 [94.6 kB]\n",
            "Get:7 http://archive.ubuntu.com/ubuntu jammy/main amd64 xfonts-base all 1:1.0.5 [5,896 kB]\n",
            "Get:8 http://archive.ubuntu.com/ubuntu jammy-updates/main amd64 xserver-common all 2:21.1.4-2ubuntu1.7~22.04.12 [28.7 kB]\n",
            "Get:9 http://archive.ubuntu.com/ubuntu jammy-updates/universe amd64 xvfb amd64 2:21.1.4-2ubuntu1.7~22.04.12 [864 kB]\n",
            "Fetched 7,815 kB in 0s (18.7 MB/s)\n",
            "Selecting previously unselected package libfontenc1:amd64.\n",
            "(Reading database ... 123630 files and directories currently installed.)\n",
            "Preparing to unpack .../0-libfontenc1_1%3a1.1.4-1build3_amd64.deb ...\n",
            "Unpacking libfontenc1:amd64 (1:1.1.4-1build3) ...\n",
            "Selecting previously unselected package libxfont2:amd64.\n",
            "Preparing to unpack .../1-libxfont2_1%3a2.0.5-1build1_amd64.deb ...\n",
            "Unpacking libxfont2:amd64 (1:2.0.5-1build1) ...\n",
            "Selecting previously unselected package libxkbfile1:amd64.\n",
            "Preparing to unpack .../2-libxkbfile1_1%3a1.1.0-1build3_amd64.deb ...\n",
            "Unpacking libxkbfile1:amd64 (1:1.1.0-1build3) ...\n",
            "Selecting previously unselected package x11-xkb-utils.\n",
            "Preparing to unpack .../3-x11-xkb-utils_7.7+5build4_amd64.deb ...\n",
            "Unpacking x11-xkb-utils (7.7+5build4) ...\n",
            "Selecting previously unselected package xfonts-encodings.\n",
            "Preparing to unpack .../4-xfonts-encodings_1%3a1.0.5-0ubuntu2_all.deb ...\n",
            "Unpacking xfonts-encodings (1:1.0.5-0ubuntu2) ...\n",
            "Selecting previously unselected package xfonts-utils.\n",
            "Preparing to unpack .../5-xfonts-utils_1%3a7.7+6build2_amd64.deb ...\n",
            "Unpacking xfonts-utils (1:7.7+6build2) ...\n",
            "Selecting previously unselected package xfonts-base.\n",
            "Preparing to unpack .../6-xfonts-base_1%3a1.0.5_all.deb ...\n",
            "Unpacking xfonts-base (1:1.0.5) ...\n",
            "Selecting previously unselected package xserver-common.\n",
            "Preparing to unpack .../7-xserver-common_2%3a21.1.4-2ubuntu1.7~22.04.12_all.deb ...\n",
            "Unpacking xserver-common (2:21.1.4-2ubuntu1.7~22.04.12) ...\n",
            "Selecting previously unselected package xvfb.\n",
            "Preparing to unpack .../8-xvfb_2%3a21.1.4-2ubuntu1.7~22.04.12_amd64.deb ...\n",
            "Unpacking xvfb (2:21.1.4-2ubuntu1.7~22.04.12) ...\n",
            "Setting up libfontenc1:amd64 (1:1.1.4-1build3) ...\n",
            "Setting up xfonts-encodings (1:1.0.5-0ubuntu2) ...\n",
            "Setting up libxkbfile1:amd64 (1:1.1.0-1build3) ...\n",
            "Setting up libxfont2:amd64 (1:2.0.5-1build1) ...\n",
            "Setting up x11-xkb-utils (7.7+5build4) ...\n",
            "Setting up xfonts-utils (1:7.7+6build2) ...\n",
            "Setting up xfonts-base (1:1.0.5) ...\n",
            "Setting up xserver-common (2:21.1.4-2ubuntu1.7~22.04.12) ...\n",
            "Setting up xvfb (2:21.1.4-2ubuntu1.7~22.04.12) ...\n",
            "Processing triggers for man-db (2.10.2-1) ...\n",
            "Processing triggers for fontconfig (2.13.1-4.2ubuntu5) ...\n",
            "Processing triggers for libc-bin (2.35-0ubuntu3.4) ...\n",
            "/sbin/ldconfig.real: /usr/local/lib/libur_loader.so.0 is not a symbolic link\n",
            "\n",
            "/sbin/ldconfig.real: /usr/local/lib/libtcm_debug.so.1 is not a symbolic link\n",
            "\n",
            "/sbin/ldconfig.real: /usr/local/lib/libtbbbind_2_5.so.3 is not a symbolic link\n",
            "\n",
            "/sbin/ldconfig.real: /usr/local/lib/libtbbmalloc_proxy.so.2 is not a symbolic link\n",
            "\n",
            "/sbin/ldconfig.real: /usr/local/lib/libur_adapter_opencl.so.0 is not a symbolic link\n",
            "\n",
            "/sbin/ldconfig.real: /usr/local/lib/libtbbbind_2_0.so.3 is not a symbolic link\n",
            "\n",
            "/sbin/ldconfig.real: /usr/local/lib/libtbbbind.so.3 is not a symbolic link\n",
            "\n",
            "/sbin/ldconfig.real: /usr/local/lib/libtbb.so.12 is not a symbolic link\n",
            "\n",
            "/sbin/ldconfig.real: /usr/local/lib/libtcm.so.1 is not a symbolic link\n",
            "\n",
            "/sbin/ldconfig.real: /usr/local/lib/libur_adapter_level_zero.so.0 is not a symbolic link\n",
            "\n",
            "/sbin/ldconfig.real: /usr/local/lib/libtbbmalloc.so.2 is not a symbolic link\n",
            "\n",
            "/sbin/ldconfig.real: /usr/local/lib/libhwloc.so.15 is not a symbolic link\n",
            "\n",
            "/sbin/ldconfig.real: /usr/local/lib/libumf.so.0 is not a symbolic link\n",
            "\n",
            "Collecting PyVirtualDisplay==3.0\n",
            "  Downloading PyVirtualDisplay-3.0-py3-none-any.whl.metadata (943 bytes)\n",
            "Downloading PyVirtualDisplay-3.0-py3-none-any.whl (15 kB)\n",
            "Installing collected packages: PyVirtualDisplay\n",
            "Successfully installed PyVirtualDisplay-3.0\n",
            "Collecting gymnasium==0.28.1\n",
            "  Downloading gymnasium-0.28.1-py3-none-any.whl.metadata (9.2 kB)\n",
            "Requirement already satisfied: numpy>=1.21.0 in /usr/local/lib/python3.10/dist-packages (from gymnasium==0.28.1) (1.26.4)\n",
            "Collecting jax-jumpy>=1.0.0 (from gymnasium==0.28.1)\n",
            "  Downloading jax_jumpy-1.0.0-py3-none-any.whl.metadata (15 kB)\n",
            "Requirement already satisfied: cloudpickle>=1.2.0 in /usr/local/lib/python3.10/dist-packages (from gymnasium==0.28.1) (3.1.0)\n",
            "Requirement already satisfied: typing-extensions>=4.3.0 in /usr/local/lib/python3.10/dist-packages (from gymnasium==0.28.1) (4.12.2)\n",
            "Collecting farama-notifications>=0.0.1 (from gymnasium==0.28.1)\n",
            "  Downloading Farama_Notifications-0.0.4-py3-none-any.whl.metadata (558 bytes)\n",
            "Downloading gymnasium-0.28.1-py3-none-any.whl (925 kB)\n",
            "\u001b[2K   \u001b[90m━━━━━━━━━━━━━━━━━━━━━━━━━━━━━━━━━━━━━━━━\u001b[0m \u001b[32m925.5/925.5 kB\u001b[0m \u001b[31m12.0 MB/s\u001b[0m eta \u001b[36m0:00:00\u001b[0m\n",
            "\u001b[?25hDownloading Farama_Notifications-0.0.4-py3-none-any.whl (2.5 kB)\n",
            "Downloading jax_jumpy-1.0.0-py3-none-any.whl (20 kB)\n",
            "Installing collected packages: farama-notifications, jax-jumpy, gymnasium\n",
            "Successfully installed farama-notifications-0.0.4 gymnasium-0.28.1 jax-jumpy-1.0.0\n"
          ]
        }
      ],
      "source": [
        "import sys\n",
        "IN_COLAB = \"google.colab\" in sys.modules\n",
        "\n",
        "if IN_COLAB:\n",
        "    !apt install python-opengl\n",
        "    !apt install ffmpeg\n",
        "    !apt install xvfb\n",
        "    !pip install PyVirtualDisplay==3.0\n",
        "    !pip install gymnasium==0.28.1\n",
        "    from pyvirtualdisplay import Display\n",
        "\n",
        "    # Start virtual display\n",
        "    dis = Display(visible=0, size=(400, 400))\n",
        "    dis.start()"
      ]
    },
    {
      "cell_type": "markdown",
      "metadata": {
        "id": "iM1dzsVolPs-"
      },
      "source": [
        "# 02. Double DQN\n",
        "\n",
        "[van Hasselt et al., \"Deep Reinforcement Learning with Double Q-learning.\" arXiv preprint arXiv:1509.06461, 2015.](https://arxiv.org/pdf/1509.06461.pdf)\n",
        "\n",
        "\n",
        "\n",
        "\n",
        "Let's take a close look at the difference between DQN and Double-DQN. The max operator in standard Q-learning and DQN uses the same values both to select and to evaluate an action. This makes it more likely to select overestimated values, resulting in overoptimistic value estimates.\n",
        "\n",
        "$$\n",
        "\\theta_{t+1} = \\theta_t + \\alpha \\big(Y_t^Q - Q(S_t, A_t; \\theta_t)\\big) \\cdot \\nabla_{\\theta_t} Q(S_t, A_t; \\theta_t),\\\\\n",
        "\\text{where } \\alpha \\text{ is a scalar step size and the target } Y_t^Q \\text{is defined as }\\\\\n",
        "Y_t^Q = R_{t+1} + \\gamma \\max_a Q(S_{t+1}, a; \\theta_t).\n",
        "$$\n",
        "\n",
        "In Double Q-learning ([van Hasselt 2010](https://papers.nips.cc/paper/3964-double-q-learning.pdf)), two value functions are learned by assigning experiences randomly to update one of the two value functions, resulting in two sets of weights, $\\theta$ and $\\theta'$. For each update, one set of weights is used to determine the greedy policy and the other to determine its value. For a clear comparison, we can untangle the selection and evaluation in Q-learning and rewrite DQN's target as\n",
        "\n",
        "$$\n",
        "Y_t^Q = R_{t+1} + \\gamma Q(S_{t+1}, \\arg\\max_a Q(S_{t+1}, a; \\theta_t); \\theta_t).\n",
        "$$\n",
        "\n",
        "The Double Q-learning error can then be written as\n",
        "\n",
        "$$\n",
        "Y_t^{DoubleQ} = R_{t+1} + \\gamma Q(S_{t+1}, \\arg\\max_a Q(S_{t+1}, a; \\theta_t); \\theta_t').\n",
        "$$\n",
        "\n",
        "The idea of Double Q-learning is to reduce overestimations by decomposing the max operation in the target into action selection and action evaluation. Although not fully decoupled, the target network in the DQN architecture provides a natural candidate for the second value function, without having to introduce additional networks. In conclusion, the weights of the second network $\\theta_t'$ are replaced with the weights of the target network for the evaluation of the current greedy policy. This makes just a small change in calculating the target value of DQN loss.\n",
        "\n",
        "##### DQN:\n",
        "\n",
        "```\n",
        "target = reward + gamma * dqn_target(next_state).max(dim=1, keepdim=True)[0]\n",
        "```\n",
        "\n",
        "##### DoubleDQN:\n",
        "\n",
        "```\n",
        "selected_action = dqn(next_state).argmax(dim=1, keepdim=True)\n",
        "target = reward + gamma * dqn_target(next_state).gather(1, selected_action)\n",
        "```\n",
        "      "
      ]
    },
    {
      "cell_type": "code",
      "execution_count": 3,
      "metadata": {
        "id": "J66wtphSlPs_"
      },
      "outputs": [],
      "source": [
        "import os\n",
        "from typing import Dict, List, Tuple\n",
        "\n",
        "import gymnasium as gym\n",
        "import matplotlib.pyplot as plt\n",
        "import numpy as np\n",
        "import torch\n",
        "import torch.nn as nn\n",
        "import torch.nn.functional as F\n",
        "import torch.optim as optim\n",
        "from IPython.display import clear_output"
      ]
    },
    {
      "cell_type": "markdown",
      "metadata": {
        "id": "f8pFpAzzlPtA"
      },
      "source": [
        "## Replay buffer\n",
        "\n",
        "Please see *01.dqn.ipynb* for detailed description."
      ]
    },
    {
      "cell_type": "code",
      "execution_count": 4,
      "metadata": {
        "id": "vPnW-PbIlPtA"
      },
      "outputs": [],
      "source": [
        "class ReplayBuffer:\n",
        "    \"\"\"A simple numpy replay buffer.\"\"\"\n",
        "\n",
        "    def __init__(self, obs_dim: int, size: int, batch_size: int = 32):\n",
        "        self.obs_buf = np.zeros([size, obs_dim], dtype=np.float32)\n",
        "        self.next_obs_buf = np.zeros([size, obs_dim], dtype=np.float32)\n",
        "        self.acts_buf = np.zeros([size], dtype=np.float32)\n",
        "        self.rews_buf = np.zeros([size], dtype=np.float32)\n",
        "        self.done_buf = np.zeros(size, dtype=np.float32)\n",
        "        self.max_size, self.batch_size = size, batch_size\n",
        "        self.ptr, self.size, = 0, 0\n",
        "\n",
        "    def store(\n",
        "        self,\n",
        "        obs: np.ndarray,\n",
        "        act: np.ndarray,\n",
        "        rew: float,\n",
        "        next_obs: np.ndarray,\n",
        "        done: bool,\n",
        "    ):\n",
        "        self.obs_buf[self.ptr] = obs\n",
        "        self.next_obs_buf[self.ptr] = next_obs\n",
        "        self.acts_buf[self.ptr] = act\n",
        "        self.rews_buf[self.ptr] = rew\n",
        "        self.done_buf[self.ptr] = done\n",
        "        self.ptr = (self.ptr + 1) % self.max_size\n",
        "        self.size = min(self.size + 1, self.max_size)\n",
        "\n",
        "    def sample_batch(self) -> Dict[str, np.ndarray]:\n",
        "        idxs = np.random.choice(self.size, size=self.batch_size, replace=False)\n",
        "        return dict(obs=self.obs_buf[idxs],\n",
        "                    next_obs=self.next_obs_buf[idxs],\n",
        "                    acts=self.acts_buf[idxs],\n",
        "                    rews=self.rews_buf[idxs],\n",
        "                    done=self.done_buf[idxs])\n",
        "\n",
        "    def __len__(self) -> int:\n",
        "        return self.size"
      ]
    },
    {
      "cell_type": "markdown",
      "metadata": {
        "id": "gAEEJWsHlPtB"
      },
      "source": [
        "[link text](https://)## Network\n",
        "\n",
        "We are going to use a simple network architecture with three fully connected layers and two non-linearity functions (ReLU)."
      ]
    },
    {
      "cell_type": "code",
      "execution_count": 5,
      "metadata": {
        "id": "9fsOOvrnlPtB"
      },
      "outputs": [],
      "source": [
        "class Network(nn.Module):\n",
        "    def __init__(self, in_dim: int, out_dim: int):\n",
        "        \"\"\"Initialization.\"\"\"\n",
        "        super(Network, self).__init__()\n",
        "\n",
        "        self.layers = nn.Sequential(\n",
        "            nn.Linear(in_dim, 128),\n",
        "            nn.ReLU(),\n",
        "            nn.Linear(128, 128),\n",
        "            nn.ReLU(),\n",
        "            nn.Linear(128, out_dim)\n",
        "        )\n",
        "\n",
        "    def forward(self, x: torch.Tensor) -> torch.Tensor:\n",
        "        \"\"\"Forward method implementation.\"\"\"\n",
        "        return self.layers(x)"
      ]
    },
    {
      "cell_type": "markdown",
      "metadata": {
        "id": "mH5cDZ0UlPtB"
      },
      "source": [
        "## Double DQN Agent\n",
        "\n",
        "Here is a summary of DQNAgent class.\n",
        "\n",
        "| Method           | Note                                                 |\n",
        "| ---              | ---                                                  |\n",
        "|select_action     | select an action from the input state.               |\n",
        "|step              | take an action and return the response of the env.   |\n",
        "|compute_dqn_loss  | return dqn loss.                                     |\n",
        "|update_model      | update the model by gradient descent.                |\n",
        "|target_hard_update| hard update from the local model to the target model.|\n",
        "|train             | train the agent during num_frames.                   |\n",
        "|test              | test the agent (1 episode).                          |\n",
        "|plot              | plot the training progresses.                        |\n",
        "\n",
        "We use `self.dqn` instead of `self.dqn_target` for action selection.\n",
        "\n",
        "```\n",
        "\n",
        "        next_q_value = self.dqn_target(next_state).gather(\n",
        "            1, self.dqn(next_state).argmax(dim=1, keepdim=True)  # Double DQN\n",
        "        ).detach()\n",
        "        mask = 1 - done\n",
        "        target = (reward + self.gamma * next_q_value * mask).to(self.device)\n",
        "```"
      ]
    },
    {
      "cell_type": "code",
      "execution_count": 6,
      "metadata": {
        "id": "DDlU-hTFlPtC"
      },
      "outputs": [],
      "source": [
        "class DQNAgent:\n",
        "    \"\"\"DQN Agent interacting with environment.\n",
        "\n",
        "    Attribute:\n",
        "        env (gym.Env): openAI Gym environment\n",
        "        memory (ReplayBuffer): replay memory to store transitions\n",
        "        batch_size (int): batch size for sampling\n",
        "        epsilon (float): parameter for epsilon greedy policy\n",
        "        epsilon_decay (float): step size to decrease epsilon\n",
        "        max_epsilon (float): max value of epsilon\n",
        "        min_epsilon (float): min value of epsilon\n",
        "        target_update (int): period for target model's hard update\n",
        "        gamma (float): discount factor\n",
        "        dqn (Network): model to train and select actions\n",
        "        dqn_target (Network): target model to update\n",
        "        optimizer (torch.optim): optimizer for training dqn\n",
        "        transition (list): transition information including\n",
        "                           state, action, reward, next_state, done\n",
        "    \"\"\"\n",
        "\n",
        "    def __init__(\n",
        "        self,\n",
        "        env: gym.Env,\n",
        "        memory_size: int,\n",
        "        batch_size: int,\n",
        "        target_update: int,\n",
        "        epsilon_decay: float,\n",
        "        seed: int,\n",
        "        max_epsilon: float = 1.0,\n",
        "        min_epsilon: float = 0.1,\n",
        "        gamma: float = 0.99,\n",
        "    ):\n",
        "        \"\"\"Initialization.\n",
        "\n",
        "        Args:\n",
        "            env (gym.Env): openAI Gym environment\n",
        "            memory_size (int): length of memory\n",
        "            batch_size (int): batch size for sampling\n",
        "            target_update (int): period for target model's hard update\n",
        "            epsilon_decay (float): step size to decrease epsilon\n",
        "            lr (float): learning rate\n",
        "            max_epsilon (float): max value of epsilon\n",
        "            min_epsilon (float): min value of epsilon\n",
        "            gamma (float): discount factor\n",
        "        \"\"\"\n",
        "        obs_dim = env.observation_space.shape[0]\n",
        "        action_dim = env.action_space.n\n",
        "\n",
        "        self.env = env\n",
        "        self.memory = ReplayBuffer(obs_dim, memory_size, batch_size)\n",
        "        self.batch_size = batch_size\n",
        "        self.epsilon = max_epsilon\n",
        "        self.epsilon_decay = epsilon_decay\n",
        "        self.seed = seed\n",
        "        self.max_epsilon = max_epsilon\n",
        "        self.min_epsilon = min_epsilon\n",
        "        self.target_update = target_update\n",
        "        self.gamma = gamma\n",
        "\n",
        "        # device: cpu / gpu\n",
        "        self.device = torch.device(\n",
        "            \"cuda\" if torch.cuda.is_available() else \"cpu\"\n",
        "        )\n",
        "        print(self.device)\n",
        "\n",
        "        # networks: dqn, dqn_target\n",
        "        self.dqn = Network(obs_dim, action_dim).to(self.device)\n",
        "        self.dqn_target = Network(obs_dim, action_dim).to(self.device)\n",
        "        self.dqn_target.load_state_dict(self.dqn.state_dict())\n",
        "        self.dqn_target.eval()\n",
        "\n",
        "        # optimizer\n",
        "        self.optimizer = optim.Adam(self.dqn.parameters())\n",
        "\n",
        "        # transition to store in memory\n",
        "        self.transition = list()\n",
        "\n",
        "        # mode: train / test\n",
        "        self.is_test = False\n",
        "\n",
        "    def select_action(self, state: np.ndarray) -> np.ndarray:\n",
        "        \"\"\"Select an action from the input state.\"\"\"\n",
        "        # epsilon greedy policy\n",
        "        if self.epsilon > np.random.random():\n",
        "            selected_action = self.env.action_space.sample()\n",
        "        else:\n",
        "            selected_action = self.dqn(\n",
        "                torch.FloatTensor(state).to(self.device)\n",
        "            ).argmax()\n",
        "            selected_action = selected_action.detach().cpu().numpy()\n",
        "\n",
        "        if not self.is_test:\n",
        "            self.transition = [state, selected_action]\n",
        "\n",
        "        return selected_action\n",
        "\n",
        "    def step(self, action: np.ndarray) -> Tuple[np.ndarray, np.float64, bool]:\n",
        "        \"\"\"Take an action and return the response of the env.\"\"\"\n",
        "        next_state, reward, terminated, truncated, _ = self.env.step(action)\n",
        "        done = terminated or truncated\n",
        "\n",
        "        if not self.is_test:\n",
        "            self.transition += [reward, next_state, done]\n",
        "            self.memory.store(*self.transition)\n",
        "\n",
        "        return next_state, reward, done\n",
        "\n",
        "    def update_model(self) -> torch.Tensor:\n",
        "        \"\"\"Update the model by gradient descent.\"\"\"\n",
        "        samples = self.memory.sample_batch()\n",
        "\n",
        "        loss = self._compute_dqn_loss(samples)\n",
        "\n",
        "        self.optimizer.zero_grad()\n",
        "        loss.backward()\n",
        "        self.optimizer.step()\n",
        "\n",
        "        return loss.item()\n",
        "\n",
        "    def train(self, num_frames: int, plotting_interval: int = 200):\n",
        "        \"\"\"Train the agent.\"\"\"\n",
        "        self.is_test = False\n",
        "\n",
        "        state, _ = self.env.reset(seed=self.seed)\n",
        "        update_cnt = 0\n",
        "        epsilons = []\n",
        "        losses = []\n",
        "        scores = []\n",
        "        score = 0\n",
        "\n",
        "        episode_lengths = []  # Track the number of steps per episode\n",
        "        average_rewards = []  # Track average rewards over last 100 episodes\n",
        "\n",
        "        for frame_idx in range(1, num_frames + 1):\n",
        "            action = self.select_action(state)\n",
        "            next_state, reward, done = self.step(action)\n",
        "\n",
        "            state = next_state\n",
        "            score += reward\n",
        "\n",
        "            # if episode ends\n",
        "            if done:\n",
        "                state, _ = self.env.reset(seed=self.seed)\n",
        "                scores.append(score)\n",
        "                score = 0\n",
        "\n",
        "                # Track episode length\n",
        "                episode_lengths.append(frame_idx if len(episode_lengths) == 0 else frame_idx - sum(episode_lengths))\n",
        "\n",
        "                # Calculate average reward over last 100 episodes\n",
        "                if len(scores) >= 100:\n",
        "                    average_rewards.append(sum(scores[-100:]) / 100)\n",
        "                else:\n",
        "                    average_rewards.append(sum(scores) / len(scores))\n",
        "\n",
        "\n",
        "            # if training is ready\n",
        "            if len(self.memory) >= self.batch_size:\n",
        "                loss = self.update_model()\n",
        "                losses.append(loss)\n",
        "                update_cnt += 1\n",
        "\n",
        "                # linearly decrease epsilon\n",
        "                self.epsilon = max(\n",
        "                    self.min_epsilon, self.epsilon - (\n",
        "                        self.max_epsilon - self.min_epsilon\n",
        "                    ) * self.epsilon_decay\n",
        "                )\n",
        "                epsilons.append(self.epsilon)\n",
        "\n",
        "                # if hard update is needed\n",
        "                if update_cnt % self.target_update == 0:\n",
        "                    self._target_hard_update()\n",
        "\n",
        "            # plotting\n",
        "            if frame_idx % plotting_interval == 0:\n",
        "              self._plot(frame_idx, scores, losses, epsilons, episode_lengths, average_rewards)\n",
        "\n",
        "        self.env.close()\n",
        "\n",
        "    def test(self, video_folder: str) -> None:\n",
        "        \"\"\"Test the agent.\"\"\"\n",
        "        self.is_test = True\n",
        "\n",
        "        # for recording a video\n",
        "        naive_env = self.env\n",
        "        self.env = gym.wrappers.RecordVideo(self.env, video_folder=video_folder)\n",
        "\n",
        "        state, _ = self.env.reset(seed=self.seed)\n",
        "        done = False\n",
        "        score = 0\n",
        "\n",
        "        while not done:\n",
        "            action = self.select_action(state)\n",
        "            next_state, reward, done = self.step(action)\n",
        "\n",
        "            state = next_state\n",
        "            score += reward\n",
        "\n",
        "        print(\"score: \", score)\n",
        "        self.env.close()\n",
        "\n",
        "        # reset\n",
        "        self.env = naive_env\n",
        "\n",
        "    def _compute_dqn_loss(self, samples: Dict[str, np.ndarray]) -> torch.Tensor:\n",
        "        \"\"\"Return dqn loss.\"\"\"\n",
        "        device = self.device  # for shortening the following lines\n",
        "        state = torch.FloatTensor(samples[\"obs\"]).to(device)\n",
        "        next_state = torch.FloatTensor(samples[\"next_obs\"]).to(device)\n",
        "        action = torch.LongTensor(samples[\"acts\"].reshape(-1, 1)).to(device)\n",
        "        reward = torch.FloatTensor(samples[\"rews\"].reshape(-1, 1)).to(device)\n",
        "        done = torch.FloatTensor(samples[\"done\"].reshape(-1, 1)).to(device)\n",
        "\n",
        "        # G_t   = r + gamma * v(s_{t+1})  if state != Terminal\n",
        "        #       = r                       otherwise\n",
        "        curr_q_value = self.dqn(state).gather(1, action)\n",
        "        next_q_value = self.dqn_target(next_state).gather(  # Double DQN\n",
        "            1, self.dqn(next_state).argmax(dim=1, keepdim=True)\n",
        "        ).detach()\n",
        "        mask = 1 - done\n",
        "        target = (reward + self.gamma * next_q_value * mask).to(self.device)\n",
        "\n",
        "        # calculate dqn loss\n",
        "        loss = F.smooth_l1_loss(curr_q_value, target)\n",
        "\n",
        "        return loss\n",
        "\n",
        "    def _target_hard_update(self):\n",
        "        \"\"\"Hard update: target <- local.\"\"\"\n",
        "        self.dqn_target.load_state_dict(self.dqn.state_dict())\n",
        "\n",
        "def _plot(self, frame_idx: int, scores: List[float], losses: List[float], epsilons: List[float],\n",
        "          episode_lengths: List[int], average_rewards: List[float]):\n",
        "    \"\"\"Enhanced plot to display more training information.\"\"\"\n",
        "    clear_output(True)\n",
        "    plt.figure(figsize=(20, 10))\n",
        "\n",
        "    # Reward Curve\n",
        "    plt.subplot(2, 2, 1)\n",
        "    plt.plot(scores, color='blue', label='Cumulative Reward')\n",
        "    plt.plot(average_rewards, color='orange', linestyle='--', label='Avg Reward (last 100)')\n",
        "    plt.xlabel('Episodes')\n",
        "    plt.ylabel('Reward')\n",
        "    plt.title(f'Training Performance (Frame {frame_idx})')\n",
        "    plt.legend()\n",
        "    plt.grid()\n",
        "\n",
        "    # Loss Curve\n",
        "    plt.subplot(2, 2, 2)\n",
        "    plt.plot(losses, color='green', label='Training Loss')\n",
        "    plt.xlabel('Training Steps')\n",
        "    plt.ylabel('Loss')\n",
        "    plt.title('Loss During Training')\n",
        "    plt.legend()\n",
        "    plt.grid()\n",
        "\n",
        "    # Epsilon Decay\n",
        "    plt.subplot(2, 2, 3)\n",
        "    plt.plot(epsilons, color='red', label='Epsilon')\n",
        "    plt.xlabel('Training Steps')\n",
        "    plt.ylabel('Epsilon')\n",
        "    plt.title('Exploration Decay')\n",
        "    plt.legend()\n",
        "    plt.grid()\n",
        "\n",
        "    # Episode Lengths\n",
        "    plt.subplot(2, 2, 4)\n",
        "    plt.plot(episode_lengths, color='purple', label='Episode Length')\n",
        "    plt.xlabel('Episodes')\n",
        "    plt.ylabel('Steps')\n",
        "    plt.title('Episode Length Over Time')\n",
        "    plt.legend()\n",
        "    plt.grid()\n",
        "\n",
        "    plt.tight_layout()\n",
        "    plt.show()\n"
      ]
    },
    {
      "cell_type": "markdown",
      "metadata": {
        "id": "IQSfyDaulPtC"
      },
      "source": [
        "## Environment\n",
        "\n",
        "You can see the [code](https://github.com/Farama-Foundation/Gymnasium/blob/main/gymnasium/envs/classic_control/cartpole.py) and [configurations](https://github.com/Farama-Foundation/Gymnasium/blob/main/gymnasium/envs/classic_control/cartpole.py#L91) of CartPole-v1 from Farama Gymnasium's repository."
      ]
    },
    {
      "cell_type": "code",
      "execution_count": 7,
      "metadata": {
        "id": "fOhn8n50lPtD"
      },
      "outputs": [],
      "source": [
        "# environment\n",
        "env = gym.make(\"CartPole-v1\", max_episode_steps=200, render_mode=\"rgb_array\")"
      ]
    },
    {
      "cell_type": "markdown",
      "metadata": {
        "id": "6MZ9PDRllPtD"
      },
      "source": [
        "## Set random seed"
      ]
    },
    {
      "cell_type": "code",
      "execution_count": 8,
      "metadata": {
        "id": "V71YukDelPtD"
      },
      "outputs": [],
      "source": [
        "seed = 777\n",
        "\n",
        "def seed_torch(seed):\n",
        "    torch.manual_seed(seed)\n",
        "    if torch.backends.cudnn.enabled:\n",
        "        torch.cuda.manual_seed(seed)\n",
        "        torch.backends.cudnn.benchmark = False\n",
        "        torch.backends.cudnn.deterministic = True\n",
        "\n",
        "np.random.seed(seed)\n",
        "seed_torch(seed)"
      ]
    },
    {
      "cell_type": "markdown",
      "metadata": {
        "id": "dgrbxR8PlPtD"
      },
      "source": [
        "## Initialize"
      ]
    },
    {
      "cell_type": "code",
      "execution_count": 9,
      "metadata": {
        "colab": {
          "base_uri": "https://localhost:8080/"
        },
        "id": "V9t2ghtllPtD",
        "outputId": "7fa6dd27-6539-4ca6-a991-f11db6c503eb"
      },
      "outputs": [
        {
          "output_type": "stream",
          "name": "stdout",
          "text": [
            "cpu\n"
          ]
        }
      ],
      "source": [
        "# parameters\n",
        "num_frames = 10000\n",
        "memory_size = 1000\n",
        "batch_size = 32\n",
        "target_update = 200\n",
        "epsilon_decay = 1 / 2000\n",
        "\n",
        "# train\n",
        "agent = DQNAgent(env, memory_size, batch_size, target_update, epsilon_decay, seed)"
      ]
    },
    {
      "cell_type": "markdown",
      "metadata": {
        "id": "2lJ7DYhnlPtE"
      },
      "source": [
        "## Train"
      ]
    },
    {
      "cell_type": "code",
      "execution_count": 10,
      "metadata": {
        "colab": {
          "base_uri": "https://localhost:8080/",
          "height": 461
        },
        "id": "dxLqI3IglPtE",
        "outputId": "f4c13c21-c104-4233-e468-1a104126277e"
      },
      "outputs": [
        {
          "output_type": "display_data",
          "data": {
            "text/plain": [
              "<Figure size 2000x500 with 3 Axes>"
            ],
            "image/png": "[encoded data removed]"
          },
          "metadata": {}
        }
      ],
      "source": [
        "agent.train(num_frames)"
      ]
    },
    {
      "cell_type": "markdown",
      "metadata": {
        "id": "kz2BttbhlPtE"
      },
      "source": [
        "## Test\n",
        "\n",
        "Run the trained agent (1 episode)."
      ]
    },
    {
      "cell_type": "code",
      "execution_count": 11,
      "metadata": {
        "colab": {
          "base_uri": "https://localhost:8080/"
        },
        "id": "baZoZofVlPtE",
        "outputId": "c8a0eae0-ce68-43bc-b222-63016fec1b5d"
      },
      "outputs": [
        {
          "output_type": "stream",
          "name": "stdout",
          "text": [
            "Moviepy - Building video /content/videos/double_q/rl-video-episode-0.mp4.\n",
            "Moviepy - Writing video /content/videos/double_q/rl-video-episode-0.mp4\n",
            "\n"
          ]
        },
        {
          "output_type": "stream",
          "name": "stderr",
          "text": []
        },
        {
          "output_type": "stream",
          "name": "stdout",
          "text": [
            "Moviepy - Done !\n",
            "Moviepy - video ready /content/videos/double_q/rl-video-episode-0.mp4\n",
            "score:  191.0\n"
          ]
        }
      ],
      "source": [
        "video_folder=\"videos/double_q\"\n",
        "agent.test(video_folder=video_folder)"
      ]
    },
    {
      "cell_type": "markdown",
      "metadata": {
        "id": "wnzNQNAQlPtF"
      },
      "source": [
        "## Render"
      ]
    },
    {
      "cell_type": "code",
      "execution_count": 12,
      "metadata": {
        "colab": {
          "base_uri": "https://localhost:8080/",
          "height": 278
        },
        "id": "Du1djAtKlPtF",
        "outputId": "27350963-5d23-4973-96bc-d0d87f675fb3"
      },
      "outputs": [
        {
          "output_type": "display_data",
          "data": {
            "text/plain": [
              "<IPython.core.display.HTML object>"
            ],
            "text/html": [
              "\n",
              "        <video width=\"320\" height=\"240\" alt=\"test\" controls>\n",
              "        <source src=\"data:video/mp4;base64,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\" type=\"video/mp4\"/>\n",
              "        </video>\n",
              "        "
            ]
          },
          "metadata": {}
        },
        {
          "output_type": "stream",
          "name": "stdout",
          "text": [
            "Played: videos/double_q/rl-video-episode-0.mp4\n"
          ]
        }
      ],
      "source": [
        "import base64\n",
        "import glob\n",
        "import io\n",
        "import os\n",
        "\n",
        "from IPython.display import HTML, display\n",
        "\n",
        "\n",
        "def ipython_show_video(path: str) -> None:\n",
        "    \"\"\"Show a video at `path` within IPython Notebook.\"\"\"\n",
        "    if not os.path.isfile(path):\n",
        "        raise NameError(\"Cannot access: {}\".format(path))\n",
        "\n",
        "    video = io.open(path, \"r+b\").read()\n",
        "    encoded = base64.b64encode(video)\n",
        "\n",
        "    display(HTML(\n",
        "        data=\"\"\"\n",
        "        <video width=\"320\" height=\"240\" alt=\"test\" controls>\n",
        "        <source src=\"data:video/mp4;base64,{0}\" type=\"video/mp4\"/>\n",
        "        </video>\n",
        "        \"\"\".format(encoded.decode(\"ascii\"))\n",
        "    ))\n",
        "\n",
        "\n",
        "def show_latest_video(video_folder: str) -> str:\n",
        "    \"\"\"Show the most recently recorded video from video folder.\"\"\"\n",
        "    list_of_files = glob.glob(os.path.join(video_folder, \"*.mp4\"))\n",
        "    latest_file = max(list_of_files, key=os.path.getctime)\n",
        "    ipython_show_video(latest_file)\n",
        "    return latest_file\n",
        "\n",
        "\n",
        "latest_file = show_latest_video(video_folder=video_folder)\n",
        "print(\"Played:\", latest_file)"
      ]
    }
  ],
  "metadata": {
    "kernelspec": {
      "display_name": "rainbow-is-all-you-need",
      "language": "python",
      "name": "rainbow-is-all-you-need"
    },
    "language_info": {
      "codemirror_mode": {
        "name": "ipython",
        "version": 3
      },
      "file_extension": ".py",
      "mimetype": "text/x-python",
      "name": "python",
      "nbconvert_exporter": "python",
      "pygments_lexer": "ipython3",
      "version": "3.8.12"
    },
    "colab": {
      "provenance": []
    }
  },
  "nbformat": 4,
  "nbformat_minor": 0
}